{
  "nbformat": 4,
  "nbformat_minor": 0,
  "metadata": {
    "colab": {
      "name": "Image Classification on Fashion MNIST with TensorFlow-Quantum and Cirq.ipynb",
      "provenance": [],
      "collapsed_sections": [],
      "toc_visible": true
    },
    "kernelspec": {
      "name": "python3",
      "display_name": "Python 3"
    }
  },
  "cells": [
    {
      "cell_type": "markdown",
      "metadata": {
        "id": "ul073WDztsNU"
      },
      "source": [
        "# Image Classification on Fashion MNIST with TensorFlow-Quantum and Cirq"
      ]
    },
    {
      "cell_type": "markdown",
      "metadata": {
        "id": "FDtXZb18m0Jq"
      },
      "source": [
        "## About the Dataset and QML"
      ]
    },
    {
      "cell_type": "markdown",
      "metadata": {
        "id": "ecq9vXs7opLM"
      },
      "source": [
        "The original MNIST dataset contains a lot of handwritten digits. People from AI/ML/Data Science community love this dataset and use it as a benchmark to validate their algorithms. In fact, MNIST is often the first dataset they would try on. ***“If it doesn’t work on MNIST, it won’t work at all”***, they said. ***“Well, if it does work on MNIST, it may still fail on others.”*** Fashion-MNIST is intended to serve as a direct drop-in replacement for the original MNIST dataset to benchmark machine learning algorithms, as it shares the same image size and the structure of training and testing splits."
      ]
    },
    {
      "cell_type": "markdown",
      "metadata": {
        "id": "TBbNH7k6qSgt"
      },
      "source": [
        "We shall perform QML on Fashion MNIST dataset using TensorFLow Quantum and Cirq. \r\n",
        "\r\n",
        "[TensorFlow-Quantum](https://www.tensorflow.org/quantum/tutorials) is a great place to start learning QML and get into this amazing field. TensorFlow Quantum (TFQ) is a quantum machine learning library for rapid prototyping of hybrid quantum-classical ML models.TensorFlow Quantum focuses on quantum data and building hybrid quantum-classical models. It integrates quantum computing algorithms and logic designed in Cirq, and provides quantum computing primitives compatible with existing TensorFlow APIs, along with high-performance quantum circuit simulators. \r\n",
        "\r\n",
        "[Cirq](https://quantumai.google/cirq) is a Python software library for writing, manipulating, and optimizing quantum circuits, and then running them on quantum computers and quantum simulators. Cirq provides useful abstractions for dealing with today’s noisy intermediate-scale quantum computers, where details of the hardware are vital to achieving state-of-the-art results."
      ]
    },
    {
      "cell_type": "markdown",
      "metadata": {
        "id": "AOCdlEjxKoRN"
      },
      "source": [
        "Today's(NISQ Era) Quantum Computer are not very powerful and have various limitations. Also, the field of Quantum Machine Learning is currently evolving. To keep things simple, we will modify the Fashion MNIST dataset by making classification on only two classes - Sandal and Ankle boot. The reason to choose these classes is that they are similar to each other and therefore, it ascertains that the classification problem doesn't become very easy. The image shape in the provided dataset is (28,28), but we need to downscale the images to classify them using QML due to the hardware restrictions. We will downscale the images so that they have the shape (4,4)."
      ]
    },
    {
      "cell_type": "markdown",
      "metadata": {
        "id": "1mB2jAsznFZK"
      },
      "source": [
        "Number of Images in the Train Dataset - 10200\r\n",
        "\r\n",
        "Number of Images in the Validation Dataset - 1800\r\n",
        "\r\n",
        "Number of Images in the Test Dataset - 2000\r\n",
        "\r\n",
        "Size of each Image - (2,2)\r\n",
        "\r\n",
        "Type of Image - Grayscale Image\r\n",
        "\r\n",
        "Number of Labels - 2\r\n",
        "\r\n",
        "\r\n",
        "~~~\r\n",
        "Label\tDescription\r\n",
        "5\t    Sandal\r\n",
        "9\t    Ankle boot\r\n",
        "~~~"
      ]
    },
    {
      "cell_type": "markdown",
      "metadata": {
        "id": "_Xi8mJUptn42"
      },
      "source": [
        "## Installing required packages"
      ]
    },
    {
      "cell_type": "code",
      "metadata": {
        "id": "Xj9X94SHs7_o"
      },
      "source": [
        "# installing TensorFLow Version 2.3.1\r\n",
        "from IPython.display import clear_output\r\n",
        "!pip install -q tensorflow==2.3.1\r\n",
        "clear_output()"
      ],
      "execution_count": 1,
      "outputs": []
    },
    {
      "cell_type": "code",
      "metadata": {
        "id": "jEFDCf90oOwN"
      },
      "source": [
        "# install tensorflow quantum\r\n",
        "!pip install -q tensorflow_quantum\r\n",
        "clear_output()"
      ],
      "execution_count": 2,
      "outputs": []
    },
    {
      "cell_type": "code",
      "metadata": {
        "id": "Kr4kAs3ipWYN"
      },
      "source": [
        "#install cirq\r\n",
        "!pip install cirq\r\n",
        "clear_output()"
      ],
      "execution_count": 3,
      "outputs": []
    },
    {
      "cell_type": "markdown",
      "metadata": {
        "id": "4E3JNaVwu-SX"
      },
      "source": [
        "## Importing the dataset and required packages"
      ]
    },
    {
      "cell_type": "code",
      "metadata": {
        "id": "otBjLV4ovAqm"
      },
      "source": [
        "import tensorflow as tf\r\n",
        "\r\n",
        "# Data Processing tools\r\n",
        "import numpy as np\r\n",
        "from sklearn.model_selection import train_test_split \r\n",
        "\r\n",
        "# QML tools\r\n",
        "import tensorflow_quantum as tfq\r\n",
        "import cirq\r\n",
        "import sympy\r\n",
        "\r\n",
        "# Visualization Tools\r\n",
        "from cirq.contrib.svg import SVGCircuit\r\n",
        "import matplotlib.pyplot as plt"
      ],
      "execution_count": 1,
      "outputs": []
    },
    {
      "cell_type": "code",
      "metadata": {
        "colab": {
          "base_uri": "https://localhost:8080/"
        },
        "id": "MxejhA8Iumpu",
        "outputId": "d5e04292-fb96-40c9-cb98-1a1f1724601d"
      },
      "source": [
        "#Lets print the version of cirq and tfq that we will use\r\n",
        "print(\"We are using the TensorFlow-Quantum version {}\".format(tfq.__version__))\r\n",
        "print(\"We are using the Cirq version {}\".format(cirq.__version__))"
      ],
      "execution_count": 2,
      "outputs": [
        {
          "output_type": "stream",
          "text": [
            "We are using the TensorFlow-Quantum version 0.4.0\n",
            "We are using the Cirq version 0.9.1\n"
          ],
          "name": "stdout"
        }
      ]
    },
    {
      "cell_type": "code",
      "metadata": {
        "id": "nvAb6_0xnBRX"
      },
      "source": [
        "#importing the Fashion MNIST dataset from keras\r\n",
        "from tensorflow.keras.datasets import fashion_mnist as dataset"
      ],
      "execution_count": 3,
      "outputs": []
    },
    {
      "cell_type": "code",
      "metadata": {
        "id": "7_xF9rR-rNFz"
      },
      "source": [
        "(X_train, y_train), (X_test, y_test) = dataset.load_data()"
      ],
      "execution_count": 4,
      "outputs": []
    },
    {
      "cell_type": "code",
      "metadata": {
        "colab": {
          "base_uri": "https://localhost:8080/"
        },
        "id": "kFlj0AvvrqIW",
        "outputId": "8121f0be-6284-4608-e0b6-29703f49cf9f"
      },
      "source": [
        "print(\"The shape of the X_train is {}\".format( X_train.shape))\r\n",
        "print(\"The shape of the y_train is {}\".format(y_train.shape))\r\n",
        "print(\"The shape of the X_test is {}\".format(X_test.shape))\r\n",
        "print(\"The shape of the y_test is {}\".format(y_test.shape))"
      ],
      "execution_count": 5,
      "outputs": [
        {
          "output_type": "stream",
          "text": [
            "The shape of the X_train is (60000, 28, 28)\n",
            "The shape of the y_train is (60000,)\n",
            "The shape of the X_test is (10000, 28, 28)\n",
            "The shape of the y_test is (10000,)\n"
          ],
          "name": "stdout"
        }
      ]
    },
    {
      "cell_type": "markdown",
      "metadata": {
        "id": "jDyH0wwXwCOK"
      },
      "source": [
        "## Preprocessing the Dataset"
      ]
    },
    {
      "cell_type": "code",
      "metadata": {
        "id": "3z2lgVw1wELa"
      },
      "source": [
        "def filter_data(x, y):\r\n",
        "  \"\"\"\r\n",
        "  Helper Function to filter the dataset\r\n",
        "  \"\"\"\r\n",
        "  #filter the data using labels\r\n",
        "  keep = (y == 5) | (y == 9)\r\n",
        "  x, y = x[keep], y[keep]\r\n",
        "\r\n",
        "  # convert labels to boolean\r\n",
        "  # y = True if y==5\r\n",
        "  # y = False if y==9\r\n",
        "  y = y == 5\r\n",
        "  return x,y"
      ],
      "execution_count": 6,
      "outputs": []
    },
    {
      "cell_type": "code",
      "metadata": {
        "id": "jQHzPIhA6og7"
      },
      "source": [
        "#Filter the train set\r\n",
        "X_train, y_train = filter_data(X_train, y_train)\r\n",
        "\r\n",
        "#Filter the test_set\r\n",
        "X_test, y_test = filter_data(X_test, y_test)"
      ],
      "execution_count": 7,
      "outputs": []
    },
    {
      "cell_type": "code",
      "metadata": {
        "colab": {
          "base_uri": "https://localhost:8080/"
        },
        "id": "DU7rvKtu-CSu",
        "outputId": "b258ec37-a770-4bd2-e8bb-7d1be423d2b0"
      },
      "source": [
        "# Let's have a look at the shapes of train and test data\r\n",
        "print(\"The shape of the X_train is {}\".format( X_train.shape))\r\n",
        "print(\"The shape of the y_train is {}\".format(y_train.shape))\r\n",
        "print(\"The shape of the X_test is {}\".format(X_test.shape))\r\n",
        "print(\"The shape of the y_test is {}\".format(y_test.shape))"
      ],
      "execution_count": 8,
      "outputs": [
        {
          "output_type": "stream",
          "text": [
            "The shape of the X_train is (12000, 28, 28)\n",
            "The shape of the y_train is (12000,)\n",
            "The shape of the X_test is (2000, 28, 28)\n",
            "The shape of the y_test is (2000,)\n"
          ],
          "name": "stdout"
        }
      ]
    },
    {
      "cell_type": "code",
      "metadata": {
        "colab": {
          "base_uri": "https://localhost:8080/",
          "height": 298
        },
        "id": "Ymg4FvbDsmbO",
        "outputId": "1cef323b-481a-4e2e-ad05-54a4958be3a3"
      },
      "source": [
        "#Let's have a look at the first image from our X_train and the \r\n",
        "# corresponding label from y_train\r\n",
        "print(\"The First Image has the label {}\".format(y_train[0]))\r\n",
        "plt.imshow(X_train[0])\r\n",
        "plt.colorbar()\r\n",
        "plt.title('Visualization of the Dataset')\r\n",
        "plt.show()"
      ],
      "execution_count": 9,
      "outputs": [
        {
          "output_type": "stream",
          "text": [
            "The First Image has the label False\n"
          ],
          "name": "stdout"
        },
        {
          "output_type": "display_data",
          "data": {
            "image/png": "[encoded data removed]",
            "text/plain": [
              "<Figure size 432x288 with 2 Axes>"
            ]
          },
          "metadata": {
            "tags": [],
            "needs_background": "light"
          }
        }
      ]
    },
    {
      "cell_type": "markdown",
      "metadata": {
        "id": "e7QO_qj5uTN9"
      },
      "source": [
        "From the colorbar in the above visualization, it is clear that we have grayscale images in the dataset and hence their values range from 0 to 255. However, we would like to scale these pixel values in our dataset so that the values range from 0 to 1. This will help us to converge our CNN training faster"
      ]
    },
    {
      "cell_type": "code",
      "metadata": {
        "id": "e3qqMcOFvr5b"
      },
      "source": [
        "#Normalizing the train and test image data\r\n",
        "X_train = X_train/255.0\r\n",
        "X_test = X_test/ 255.0"
      ],
      "execution_count": 10,
      "outputs": []
    },
    {
      "cell_type": "code",
      "metadata": {
        "colab": {
          "base_uri": "https://localhost:8080/",
          "height": 281
        },
        "id": "Bevkendhuzsq",
        "outputId": "d1cf7cbf-a8e7-4e29-eaf9-88cfa83caa74"
      },
      "source": [
        "#Let's again have a look at the first image from our X_train and\r\n",
        "#see if we have successfully normalized the datasets\r\n",
        "plt.imshow(X_train[0])\r\n",
        "plt.colorbar()\r\n",
        "plt.title('Visualization of the Dataset')\r\n",
        "plt.show()"
      ],
      "execution_count": 11,
      "outputs": [
        {
          "output_type": "display_data",
          "data": {
            "image/png": "[encoded data removed]",
            "text/plain": [
              "<Figure size 432x288 with 2 Axes>"
            ]
          },
          "metadata": {
            "tags": [],
            "needs_background": "light"
          }
        }
      ]
    },
    {
      "cell_type": "code",
      "metadata": {
        "id": "Cfgtl9kUD9H5"
      },
      "source": [
        "#Before proceeding, we need to reshape our images in the dataset\r\n",
        "X_train = X_train.reshape(X_train.shape[0], *(28,28,1))\r\n",
        "X_test = X_test.reshape(X_test.shape[0], *(28,28,1))"
      ],
      "execution_count": 12,
      "outputs": []
    },
    {
      "cell_type": "code",
      "metadata": {
        "id": "cvBKLXbc_cZg"
      },
      "source": [
        "# Downscaling the images\r\n",
        "X_train = tf.image.resize(X_train, (2,2)).numpy()\r\n",
        "X_test = tf.image.resize(X_test, (2,2)).numpy()\r\n"
      ],
      "execution_count": 13,
      "outputs": []
    },
    {
      "cell_type": "code",
      "metadata": {
        "colab": {
          "base_uri": "https://localhost:8080/",
          "height": 281
        },
        "id": "iKWbEihSJBX_",
        "outputId": "d1f35533-1c91-4ac8-8a5f-c7ba607b67c6"
      },
      "source": [
        "#Let's again have a look at the first image from our resized X_train\r\n",
        "plt.imshow(X_train[0,:,:,0])\r\n",
        "plt.colorbar()\r\n",
        "plt.title('Visualization of the Resized Dataset')\r\n",
        "plt.show()"
      ],
      "execution_count": 14,
      "outputs": [
        {
          "output_type": "display_data",
          "data": {
            "image/png": "[encoded data removed]",
            "text/plain": [
              "<Figure size 432x288 with 2 Axes>"
            ]
          },
          "metadata": {
            "tags": [],
            "needs_background": "light"
          }
        }
      ]
    },
    {
      "cell_type": "code",
      "metadata": {
        "id": "-yiNywWqP610"
      },
      "source": [
        "#Splitting the training fdataset into train and validation datasets\r\n",
        "X_train, X_valid, y_train, y_valid = train_test_split(X_train, y_train, test_size = 0.15, random_state=0)"
      ],
      "execution_count": 15,
      "outputs": []
    },
    {
      "cell_type": "code",
      "metadata": {
        "colab": {
          "base_uri": "https://localhost:8080/"
        },
        "id": "jy57uzOT-LvY",
        "outputId": "8e655d0a-b97a-4c14-da72-185d4c16c796"
      },
      "source": [
        "print(\"The shape of the X_train is {}\".format(X_train.shape))\r\n",
        "print(\"The shape of the y_train is {}\".format(y_train.shape))\r\n",
        "print(\"The shape of the X_valid is {}\".format(X_valid.shape))\r\n",
        "print(\"The shape of the y_valid is {}\".format(y_valid.shape))"
      ],
      "execution_count": 16,
      "outputs": [
        {
          "output_type": "stream",
          "text": [
            "The shape of the X_train is (10200, 2, 2, 1)\n",
            "The shape of the y_train is (10200,)\n",
            "The shape of the X_valid is (1800, 2, 2, 1)\n",
            "The shape of the y_valid is (1800,)\n"
          ],
          "name": "stdout"
        }
      ]
    },
    {
      "cell_type": "markdown",
      "metadata": {
        "id": "hDTiCqXpPQ4x"
      },
      "source": [
        "## Data Encoding"
      ]
    },
    {
      "cell_type": "markdown",
      "metadata": {
        "id": "j54vI9ydZUfc"
      },
      "source": [
        "Steps involved in Data Encoding:\r\n",
        "\r\n",
        "* Processing pixel values for binary encoding\r\n",
        "\r\n",
        "* Converting Cirq Circuits to tfq tensors"
      ]
    },
    {
      "cell_type": "markdown",
      "metadata": {
        "id": "dJCkl4_tfERJ"
      },
      "source": [
        "**Step 1: Processing Pixel Values for Binary Encoding**"
      ]
    },
    {
      "cell_type": "code",
      "metadata": {
        "id": "mhxgJsxhfuzZ"
      },
      "source": [
        "# FLattening the images\r\n",
        "X_train = X_train.reshape(X_train.shape[0], *(1,4,1))\r\n",
        "X_valid = X_valid.reshape(X_valid.shape[0], *(1,4,1))\r\n",
        "X_test = X_test.reshape(X_test.shape[0], *(1,4,1))"
      ],
      "execution_count": 17,
      "outputs": []
    },
    {
      "cell_type": "markdown",
      "metadata": {
        "id": "DtYwPoLPd6iH"
      },
      "source": [
        "### Processing X_train"
      ]
    },
    {
      "cell_type": "code",
      "metadata": {
        "colab": {
          "base_uri": "https://localhost:8080/"
        },
        "id": "FuJABwN8eGNc",
        "outputId": "ba9c48cd-51f2-4cc7-8851-3bebebcfff35"
      },
      "source": [
        "#Let's have a look on the first example\r\n",
        "print(X_train[0])"
      ],
      "execution_count": 18,
      "outputs": [
        {
          "output_type": "stream",
          "text": [
            "[[[0.        ]\n",
            "  [0.41568628]\n",
            "  [0.7137255 ]\n",
            "  [0.73921573]]]\n"
          ],
          "name": "stdout"
        }
      ]
    },
    {
      "cell_type": "code",
      "metadata": {
        "id": "rIzIktKfhXRi"
      },
      "source": [
        "\r\n",
        "def binary_encode(X,threshold=0.5):\r\n",
        "  \"\"\"\r\n",
        "  Encodes the given datset to use binary encoding\r\n",
        "\r\n",
        "  Parameters:\r\n",
        "  X(array) : Image data to be processed for encoding\r\n",
        "  threshold(float): Threshold for binary encoding, 0.5 by default\r\n",
        "\r\n",
        "  Returns:\r\n",
        "  encoded_images(array): Binary encoded Image Data\r\n",
        "\r\n",
        "  \"\"\" \r\n",
        "  encoded_images = list()\r\n",
        "  for image in X:\r\n",
        "    # pixel value is 1 if it's greater than threshold or else zero\r\n",
        "    encoded_image = [1 if j>threshold else 0 for j in image[0]]\r\n",
        "    encoded_images.append(encoded_image)\r\n",
        "  return np.array(encoded_images)"
      ],
      "execution_count": 19,
      "outputs": []
    },
    {
      "cell_type": "code",
      "metadata": {
        "id": "eymmTOimcxSN"
      },
      "source": [
        "X_train = binary_encode(X_train)"
      ],
      "execution_count": 20,
      "outputs": []
    },
    {
      "cell_type": "code",
      "metadata": {
        "colab": {
          "base_uri": "https://localhost:8080/"
        },
        "id": "sESCMm_xc47k",
        "outputId": "47746dc2-a491-4551-c314-97b1f7f2c056"
      },
      "source": [
        "# Now, Let's have a look on the first example again\r\n",
        "print(X_train[0])"
      ],
      "execution_count": 21,
      "outputs": [
        {
          "output_type": "stream",
          "text": [
            "[0 0 1 1]\n"
          ],
          "name": "stdout"
        }
      ]
    },
    {
      "cell_type": "code",
      "metadata": {
        "colab": {
          "base_uri": "https://localhost:8080/"
        },
        "id": "PCv2dDsmfMOM",
        "outputId": "fac9a3ec-4b0a-4cd2-923f-c17b937ff14d"
      },
      "source": [
        "print(\"The shape of the X_train is {}\".format(X_train.shape))"
      ],
      "execution_count": 22,
      "outputs": [
        {
          "output_type": "stream",
          "text": [
            "The shape of the X_train is (10200, 4)\n"
          ],
          "name": "stdout"
        }
      ]
    },
    {
      "cell_type": "code",
      "metadata": {
        "id": "0P6g8CypTktk"
      },
      "source": [
        "def create_circuit_from_image(encoded_image):\r\n",
        "  \"\"\"\r\n",
        "  Returns a circuit for given encoded image\r\n",
        "\r\n",
        "  Parameters:\r\n",
        "  encoded_image (array): Encoded Image\r\n",
        "\r\n",
        "  Returns:\r\n",
        "  circuit (cirq.Circuit object): cirq circuit\r\n",
        "  \"\"\"\r\n",
        "  qubits = cirq.GridQubit.rect(2,2)\r\n",
        "  circuit = cirq.Circuit()\r\n",
        "  for i, pixel in enumerate(encoded_image):\r\n",
        "    if pixel:\r\n",
        "      circuit.append(cirq.X(qubits[i]))\r\n",
        "  return circuit"
      ],
      "execution_count": 23,
      "outputs": []
    },
    {
      "cell_type": "code",
      "metadata": {
        "id": "sTNIeH-2WA8-"
      },
      "source": [
        "X_train = [create_circuit_from_image(encoded_image) for encoded_image in X_train]"
      ],
      "execution_count": 24,
      "outputs": []
    },
    {
      "cell_type": "code",
      "metadata": {
        "colab": {
          "base_uri": "https://localhost:8080/"
        },
        "id": "g8kkNTVvWiBm",
        "outputId": "f0da20e0-7714-441c-ac66-76af44202cdc"
      },
      "source": [
        "# Let's have a look at the circuit for the first image\r\n",
        "print(X_train[0])"
      ],
      "execution_count": 25,
      "outputs": [
        {
          "output_type": "stream",
          "text": [
            "(1, 0): ───X───\n",
            "\n",
            "(1, 1): ───X───\n"
          ],
          "name": "stdout"
        }
      ]
    },
    {
      "cell_type": "markdown",
      "metadata": {
        "id": "fUaCe4BLXM3m"
      },
      "source": [
        "Recall that the values for the first image were 0,0,1,1. This implies that we should apply X or NOT gate the last two qubuts since all the qubits are intially in the 0 states. Applying a X gate will change this state from zero to one. Therefore, we shall apply X Gate on the last two qubits. We have initialized the four qubits in a rectangular grid. Therefore, the initialized qubits are (0,0), (0,1), (1,0) and (1,1). In the above circuit diagram, note that we have a X gate on the qubits (1,0) and (1,1) which are the last two qubits. Hence, we have successfully created circuit for our image. "
      ]
    },
    {
      "cell_type": "markdown",
      "metadata": {
        "id": "RCU6S7WhZ3Ct"
      },
      "source": [
        "**Step 2: Converting Cirq Circuits to tfq Tensors**"
      ]
    },
    {
      "cell_type": "code",
      "metadata": {
        "id": "MM-yJnfcZ2VO"
      },
      "source": [
        "X_train_tfq = tfq.convert_to_tensor(X_train)"
      ],
      "execution_count": 26,
      "outputs": []
    },
    {
      "cell_type": "markdown",
      "metadata": {
        "id": "nRdvapAEalmd"
      },
      "source": [
        "### Processing X_valid and X_test"
      ]
    },
    {
      "cell_type": "code",
      "metadata": {
        "id": "LbofYr2faX9J"
      },
      "source": [
        "X_valid = binary_encode(X_valid)\r\n",
        "X_test = binary_encode(X_test)"
      ],
      "execution_count": 27,
      "outputs": []
    },
    {
      "cell_type": "code",
      "metadata": {
        "id": "V5HoVBnXbLeP"
      },
      "source": [
        "X_valid = [create_circuit_from_image(encoded_image) for encoded_image in X_valid]\r\n",
        "X_test = [create_circuit_from_image(encoded_image) for encoded_image in X_test]"
      ],
      "execution_count": 28,
      "outputs": []
    },
    {
      "cell_type": "code",
      "metadata": {
        "id": "YsQE1fdFbcV0"
      },
      "source": [
        "X_valid_tfq = tfq.convert_to_tensor(X_valid)\r\n",
        "X_test_tfq = tfq.convert_to_tensor(X_test)"
      ],
      "execution_count": 29,
      "outputs": []
    },
    {
      "cell_type": "markdown",
      "metadata": {
        "id": "2Oo5q95fPT6n"
      },
      "source": [
        "## Quantum Neural Network"
      ]
    },
    {
      "cell_type": "markdown",
      "metadata": {
        "id": "RM86REiy7ChU"
      },
      "source": [
        "### Build the QNN"
      ]
    },
    {
      "cell_type": "markdown",
      "metadata": {
        "id": "m_lrpb-TcCJG"
      },
      "source": [
        "Building the Quantum Neural Network involves two steps\r\n",
        "\r\n",
        "* build a class that adds gates layer by layer\r\n",
        "\r\n",
        "* define the QNN using the class from the above step"
      ]
    },
    {
      "cell_type": "code",
      "metadata": {
        "id": "DycQEj54JrLW"
      },
      "source": [
        "class QNN():\r\n",
        "    def __init__(self, data_qubits, readout):\r\n",
        "      self.data_qubits = data_qubits\r\n",
        "      self.readout = readout\r\n",
        "\r\n",
        "    def add_singleQubit_gate(self,circuit, gate, qubit_index):\r\n",
        "      \"\"\"\r\n",
        "      Adds single qubit gate to the circuit\r\n",
        "      Parameters:\r\n",
        "      circuit(cirq.Circuit object): Cirq circuit\r\n",
        "      gate(cirq gate): gate to append to the circuit\r\n",
        "      qubits(list): index of qubits to apply the gate \r\n",
        "      Returns:\r\n",
        "      None\r\n",
        "      \"\"\"\r\n",
        "      for index in qubit_index:\r\n",
        "        circuit.append(gate(self.data_qubits[index]))\r\n",
        "\r\n",
        "    def add_twoQubit_gate(self,circuit, gate, qubit_index):\r\n",
        "      \"\"\"\r\n",
        "      Adds two qubit gate to the circuit\r\n",
        "      Parameters:\r\n",
        "      circuit(cirq.Circuit object): Cirq circuit\r\n",
        "      gate(cirq gate): gate to append to the circuit\r\n",
        "      qubits(list): index of qubits to apply the gate\r\n",
        "      Returns:\r\n",
        "      None\r\n",
        "      \"\"\"\r\n",
        "      if len(qubit_index)!=2:\r\n",
        "        raise Exception(\"The length of the list of indices passed for two qubit \\\r\n",
        "        gate operations must be equal to two\")\r\n",
        "      circuit.append(gate(self.data_qubits[qubit_index[0]], self.data_qubits[qubit_index[1]]))\r\n",
        "\r\n",
        "    def add_layer(self, circuit, gate, symbol_gate):\r\n",
        "      \"\"\"\r\n",
        "      Adds New Gates/Layers to the Circuit\r\n",
        "      Parameters:\r\n",
        "      circuit(cirq.Circuit object): Cirq circuit\r\n",
        "      gate(cirq gate): gate to append to the circuit\r\n",
        "      symbol_gate(string): symbol for the gate\r\n",
        "      Returns:\r\n",
        "      None\r\n",
        "      \"\"\"\r\n",
        "      for i, qubit in enumerate(self.data_qubits):\r\n",
        "        symbol = sympy.Symbol(symbol_gate+ '-' + str(i))\r\n",
        "        circuit.append(gate(qubit, self.readout)**symbol)\r\n"
      ],
      "execution_count": 30,
      "outputs": []
    },
    {
      "cell_type": "code",
      "metadata": {
        "id": "sQxpS03x1VKT"
      },
      "source": [
        "def create_qnn():\r\n",
        "    \"\"\"Create a QNN model circuit and readout operation to go along with it.\"\"\"\r\n",
        "    data_qubits = cirq.GridQubit.rect(2,2)  # a 4x4 grid.\r\n",
        "    readout = cirq.GridQubit(-1, -1)         # a single qubit at [-1,-1]\r\n",
        "    circuit = cirq.Circuit()\r\n",
        "\r\n",
        "    # Prepare the readout qubit.\r\n",
        "    circuit.append(cirq.X(readout))\r\n",
        "    circuit.append(cirq.H(readout))\r\n",
        "\r\n",
        "    qnn = QNN(\r\n",
        "        data_qubits = data_qubits,\r\n",
        "        readout=readout)\r\n",
        "    \r\n",
        "    \"\"\"\r\n",
        "    # Though we don't use single and double Qubit Gates in our Circuit, we provide \r\n",
        "    # the methods \"add_singleQubit_gate\" and \"add_twoQubit_gate\" for our Class QNN\r\n",
        "    # that can be used to add Single and Double Qubit Gates respectively.\r\n",
        "    # An exmaple is shown below:\r\n",
        "\r\n",
        "    #Add Hadamard Gates\r\n",
        "    qnn.add_singleQubit_gate(circuit, cirq.H, [0,1,2,3])\r\n",
        "\r\n",
        "    #Add CNOT gates\r\n",
        "    qnn.add_twoQubit_gate(circuit, cirq.CNOT, [0, 1])\r\n",
        "    qnn.add_twoQubit_gate(circuit, cirq.CNOT, [2, 3])\r\n",
        "    \"\"\"\r\n",
        "\r\n",
        "    # Add the ising coupling XX gate\r\n",
        "    qnn.add_layer(circuit, cirq.XX, \"xx\")\r\n",
        "    qnn.add_layer(circuit, cirq.ZZ, \"zz\")\r\n",
        "\r\n",
        "    # Finally, prepare the readout qubit.\r\n",
        "    circuit.append(cirq.H(readout))\r\n",
        "\r\n",
        "    return circuit, cirq.Z(readout)"
      ],
      "execution_count": 31,
      "outputs": []
    },
    {
      "cell_type": "code",
      "metadata": {
        "id": "bkW8IUUj3Ats"
      },
      "source": [
        "qmodel, model_readout = create_qnn()"
      ],
      "execution_count": 32,
      "outputs": []
    },
    {
      "cell_type": "code",
      "metadata": {
        "colab": {
          "base_uri": "https://localhost:8080/",
          "height": 288
        },
        "id": "B8SigYUiGE0g",
        "outputId": "6846e686-5f70-46d2-881a-06a582d66f42"
      },
      "source": [
        "#Let's have a look at our Qauntum Circuit that will perform the classification\r\n",
        "SVGCircuit(qmodel)"
      ],
      "execution_count": 33,
      "outputs": [
        {
          "output_type": "stream",
          "text": [
            "findfont: Font family ['Arial'] not found. Falling back to DejaVu Sans.\n"
          ],
          "name": "stderr"
        },
        {
          "output_type": "execute_result",
          "data": {
            "text/plain": [
              "<cirq.contrib.svg.svg.SVGCircuit at 0x7f11f5d14950>"
            ],
            "image/svg+xml": "<svg xmlns=\"http://www.w3.org/2000/svg\" width=\"1097.236875\" height=\"250.0\"><line x1=\"39.810625\" x2=\"1067.236875\" y1=\"25.0\" y2=\"25.0\" stroke=\"#1967d2\" stroke-width=\"1\" /><line x1=\"39.810625\" x2=\"1067.236875\" y1=\"75.0\" y2=\"75.0\" stroke=\"#1967d2\" stroke-width=\"1\" /><line x1=\"39.810625\" x2=\"1067.236875\" y1=\"125.0\" y2=\"125.0\" stroke=\"#1967d2\" stroke-width=\"1\" /><line x1=\"39.810625\" x2=\"1067.236875\" y1=\"175.0\" y2=\"175.0\" stroke=\"#1967d2\" stroke-width=\"1\" /><line x1=\"39.810625\" x2=\"1067.236875\" y1=\"225.0\" y2=\"225.0\" stroke=\"#1967d2\" stroke-width=\"1\" /><line x1=\"249.99353515625\" x2=\"249.99353515625\" y1=\"25.0\" y2=\"75.0\" stroke=\"black\" stroke-width=\"3\" /><line x1=\"350.73810546875006\" x2=\"350.73810546875006\" y1=\"25.0\" y2=\"125.0\" stroke=\"black\" stroke-width=\"3\" /><line x1=\"451.48267578125007\" x2=\"451.48267578125007\" y1=\"25.0\" y2=\"175.0\" stroke=\"black\" stroke-width=\"3\" /><line x1=\"552.2272460937501\" x2=\"552.2272460937501\" y1=\"25.0\" y2=\"225.0\" stroke=\"black\" stroke-width=\"3\" /><line x1=\"651.92919921875\" x2=\"651.92919921875\" y1=\"25.0\" y2=\"75.0\" stroke=\"black\" stroke-width=\"3\" /><line x1=\"750.58853515625\" x2=\"750.58853515625\" y1=\"25.0\" y2=\"125.0\" stroke=\"black\" stroke-width=\"3\" /><line x1=\"849.2478710937501\" x2=\"849.2478710937501\" y1=\"25.0\" y2=\"175.0\" stroke=\"black\" stroke-width=\"3\" /><line x1=\"947.9072070312501\" x2=\"947.9072070312501\" y1=\"25.0\" y2=\"225.0\" stroke=\"black\" stroke-width=\"3\" /><rect x=\"10.0\" y=\"5.0\" width=\"59.62125\" height=\"40\" stroke=\"black\" fill=\"white\" stroke-width=\"0\" /><text x=\"39.810625\" y=\"25.0\" dominant-baseline=\"middle\" text-anchor=\"middle\" font-size=\"14px\" font-family=\"Arial\">(-1, -1): </text><rect x=\"10.0\" y=\"55.0\" width=\"59.62125\" height=\"40\" stroke=\"black\" fill=\"white\" stroke-width=\"0\" /><text x=\"39.810625\" y=\"75.0\" dominant-baseline=\"middle\" text-anchor=\"middle\" font-size=\"14px\" font-family=\"Arial\">(0, 0): </text><rect x=\"10.0\" y=\"105.0\" width=\"59.62125\" height=\"40\" stroke=\"black\" fill=\"white\" stroke-width=\"0\" /><text x=\"39.810625\" y=\"125.0\" dominant-baseline=\"middle\" text-anchor=\"middle\" font-size=\"14px\" font-family=\"Arial\">(0, 1): </text><rect x=\"10.0\" y=\"155.0\" width=\"59.62125\" height=\"40\" stroke=\"black\" fill=\"white\" stroke-width=\"0\" /><text x=\"39.810625\" y=\"175.0\" dominant-baseline=\"middle\" text-anchor=\"middle\" font-size=\"14px\" font-family=\"Arial\">(1, 0): </text><rect x=\"10.0\" y=\"205.0\" width=\"59.62125\" height=\"40\" stroke=\"black\" fill=\"white\" stroke-width=\"0\" /><text x=\"39.810625\" y=\"225.0\" dominant-baseline=\"middle\" text-anchor=\"middle\" font-size=\"14px\" font-family=\"Arial\">(1, 1): </text><rect x=\"89.62125\" y=\"5.0\" width=\"40\" height=\"40\" stroke=\"black\" fill=\"white\" stroke-width=\"1\" /><text x=\"109.62125\" y=\"25.0\" dominant-baseline=\"middle\" text-anchor=\"middle\" font-size=\"18px\" font-family=\"Arial\">X</text><rect x=\"149.62125\" y=\"5.0\" width=\"40\" height=\"40\" stroke=\"black\" fill=\"white\" stroke-width=\"1\" /><text x=\"169.62125\" y=\"25.0\" dominant-baseline=\"middle\" text-anchor=\"middle\" font-size=\"18px\" font-family=\"Arial\">H</text><rect x=\"209.62125\" y=\"55.0\" width=\"80.74457031250002\" height=\"40\" stroke=\"black\" fill=\"white\" stroke-width=\"1\" /><text x=\"249.99353515625\" y=\"75.0\" dominant-baseline=\"middle\" text-anchor=\"middle\" font-size=\"14px\" font-family=\"Arial\">XX^(xx-0)</text><rect x=\"209.62125\" y=\"5.0\" width=\"80.74457031250002\" height=\"40\" stroke=\"black\" fill=\"white\" stroke-width=\"1\" /><text x=\"249.99353515625\" y=\"25.0\" dominant-baseline=\"middle\" text-anchor=\"middle\" font-size=\"14px\" font-family=\"Arial\">XX</text><rect x=\"310.36582031250003\" y=\"105.0\" width=\"80.74457031250002\" height=\"40\" stroke=\"black\" fill=\"white\" stroke-width=\"1\" /><text x=\"350.73810546875006\" y=\"125.0\" dominant-baseline=\"middle\" text-anchor=\"middle\" font-size=\"14px\" font-family=\"Arial\">XX^(xx-1)</text><rect x=\"310.36582031250003\" y=\"5.0\" width=\"80.74457031250002\" height=\"40\" stroke=\"black\" fill=\"white\" stroke-width=\"1\" /><text x=\"350.73810546875006\" y=\"25.0\" dominant-baseline=\"middle\" text-anchor=\"middle\" font-size=\"14px\" font-family=\"Arial\">XX</text><rect x=\"411.11039062500004\" y=\"155.0\" width=\"80.74457031250002\" height=\"40\" stroke=\"black\" fill=\"white\" stroke-width=\"1\" /><text x=\"451.48267578125007\" y=\"175.0\" dominant-baseline=\"middle\" text-anchor=\"middle\" font-size=\"14px\" font-family=\"Arial\">XX^(xx-2)</text><rect x=\"411.11039062500004\" y=\"5.0\" width=\"80.74457031250002\" height=\"40\" stroke=\"black\" fill=\"white\" stroke-width=\"1\" /><text x=\"451.48267578125007\" y=\"25.0\" dominant-baseline=\"middle\" text-anchor=\"middle\" font-size=\"14px\" font-family=\"Arial\">XX</text><rect x=\"511.85496093750004\" y=\"205.0\" width=\"80.74457031250002\" height=\"40\" stroke=\"black\" fill=\"white\" stroke-width=\"1\" /><text x=\"552.2272460937501\" y=\"225.0\" dominant-baseline=\"middle\" text-anchor=\"middle\" font-size=\"14px\" font-family=\"Arial\">XX^(xx-3)</text><rect x=\"511.85496093750004\" y=\"5.0\" width=\"80.74457031250002\" height=\"40\" stroke=\"black\" fill=\"white\" stroke-width=\"1\" /><text x=\"552.2272460937501\" y=\"25.0\" dominant-baseline=\"middle\" text-anchor=\"middle\" font-size=\"14px\" font-family=\"Arial\">XX</text><rect x=\"612.59953125\" y=\"55.0\" width=\"78.65933593750002\" height=\"40\" stroke=\"black\" fill=\"white\" stroke-width=\"1\" /><text x=\"651.92919921875\" y=\"75.0\" dominant-baseline=\"middle\" text-anchor=\"middle\" font-size=\"14px\" font-family=\"Arial\">ZZ^(zz-0)</text><rect x=\"612.59953125\" y=\"5.0\" width=\"78.65933593750002\" height=\"40\" stroke=\"black\" fill=\"white\" stroke-width=\"1\" /><text x=\"651.92919921875\" y=\"25.0\" dominant-baseline=\"middle\" text-anchor=\"middle\" font-size=\"14px\" font-family=\"Arial\">ZZ</text><rect x=\"711.2588671875001\" y=\"105.0\" width=\"78.65933593750002\" height=\"40\" stroke=\"black\" fill=\"white\" stroke-width=\"1\" /><text x=\"750.58853515625\" y=\"125.0\" dominant-baseline=\"middle\" text-anchor=\"middle\" font-size=\"14px\" font-family=\"Arial\">ZZ^(zz-1)</text><rect x=\"711.2588671875001\" y=\"5.0\" width=\"78.65933593750002\" height=\"40\" stroke=\"black\" fill=\"white\" stroke-width=\"1\" /><text x=\"750.58853515625\" y=\"25.0\" dominant-baseline=\"middle\" text-anchor=\"middle\" font-size=\"14px\" font-family=\"Arial\">ZZ</text><rect x=\"809.9182031250001\" y=\"155.0\" width=\"78.65933593750002\" height=\"40\" stroke=\"black\" fill=\"white\" stroke-width=\"1\" /><text x=\"849.2478710937501\" y=\"175.0\" dominant-baseline=\"middle\" text-anchor=\"middle\" font-size=\"14px\" font-family=\"Arial\">ZZ^(zz-2)</text><rect x=\"809.9182031250001\" y=\"5.0\" width=\"78.65933593750002\" height=\"40\" stroke=\"black\" fill=\"white\" stroke-width=\"1\" /><text x=\"849.2478710937501\" y=\"25.0\" dominant-baseline=\"middle\" text-anchor=\"middle\" font-size=\"14px\" font-family=\"Arial\">ZZ</text><rect x=\"908.5775390625001\" y=\"205.0\" width=\"78.65933593750002\" height=\"40\" stroke=\"black\" fill=\"white\" stroke-width=\"1\" /><text x=\"947.9072070312501\" y=\"225.0\" dominant-baseline=\"middle\" text-anchor=\"middle\" font-size=\"14px\" font-family=\"Arial\">ZZ^(zz-3)</text><rect x=\"908.5775390625001\" y=\"5.0\" width=\"78.65933593750002\" height=\"40\" stroke=\"black\" fill=\"white\" stroke-width=\"1\" /><text x=\"947.9072070312501\" y=\"25.0\" dominant-baseline=\"middle\" text-anchor=\"middle\" font-size=\"14px\" font-family=\"Arial\">ZZ</text><rect x=\"1007.236875\" y=\"5.0\" width=\"40\" height=\"40\" stroke=\"black\" fill=\"white\" stroke-width=\"1\" /><text x=\"1027.236875\" y=\"25.0\" dominant-baseline=\"middle\" text-anchor=\"middle\" font-size=\"18px\" font-family=\"Arial\">H</text></svg>"
          },
          "metadata": {
            "tags": []
          },
          "execution_count": 33
        }
      ]
    },
    {
      "cell_type": "code",
      "metadata": {
        "id": "fi0bmTsp3VHB"
      },
      "source": [
        "model = tf.keras.Sequential([\r\n",
        "                             \r\n",
        "    # The input is the data-circuit, encoded as a tf.string\r\n",
        "    tf.keras.layers.Input(shape=(), dtype=tf.string),\r\n",
        "\r\n",
        "    \r\n",
        "    # The PQC stands for Paramaterized Quantum Circuit\r\n",
        "    # This returns the expectation value\r\n",
        "    tfq.layers.PQC(qmodel, model_readout),\r\n",
        "])"
      ],
      "execution_count": 34,
      "outputs": []
    },
    {
      "cell_type": "code",
      "metadata": {
        "id": "-Es8_ATXDFL6"
      },
      "source": [
        "# To use Hinge Loss, we convert the labels to 1 and -1\r\n",
        "y_train_h = np.array([1 if i==1 else -1 for i in y_train ])\r\n",
        "y_valid_h = np.array([1 if i==1 else -1 for i in y_valid ])\r\n",
        "y_test_h = np.array([1 if i==1 else -1 for i in y_test ])"
      ],
      "execution_count": 35,
      "outputs": []
    },
    {
      "cell_type": "code",
      "metadata": {
        "colab": {
          "base_uri": "https://localhost:8080/"
        },
        "id": "tueGJaAWOtWf",
        "outputId": "8389a3a7-5194-4f29-b143-b9abb13bad2a"
      },
      "source": [
        "# Let's have a look at the first label from the training dataset\r\n",
        "print(y_train_h[0])"
      ],
      "execution_count": 36,
      "outputs": [
        {
          "output_type": "stream",
          "text": [
            "1\n"
          ],
          "name": "stdout"
        }
      ]
    },
    {
      "cell_type": "code",
      "metadata": {
        "id": "Ifriy2HyoI-O"
      },
      "source": [
        "# Define the custom Hinge Accuracy\r\n",
        "def hinge_accuracy(y_true, y_pred):\r\n",
        "    y_true = tf.squeeze(y_true) > 0.0\r\n",
        "    y_pred = tf.squeeze(y_pred) > 0.0\r\n",
        "    result = tf.cast(y_true == y_pred, tf.float32)\r\n",
        "\r\n",
        "    return tf.reduce_mean(result)"
      ],
      "execution_count": 37,
      "outputs": []
    },
    {
      "cell_type": "markdown",
      "metadata": {
        "id": "WUewMTq87Hl3"
      },
      "source": [
        "### Train the QNN"
      ]
    },
    {
      "cell_type": "code",
      "metadata": {
        "id": "klSZErcc3kAz"
      },
      "source": [
        "model.compile(\r\n",
        "    loss=tf.keras.losses.Hinge(),\r\n",
        "    optimizer=tf.keras.optimizers.Adam(learning_rate=0.001),\r\n",
        "    metrics=[hinge_accuracy])"
      ],
      "execution_count": 38,
      "outputs": []
    },
    {
      "cell_type": "code",
      "metadata": {
        "colab": {
          "base_uri": "https://localhost:8080/"
        },
        "id": "nO3eEigt4HgT",
        "outputId": "4d4dceb7-98e7-4e65-e46c-c58f04bf7199"
      },
      "source": [
        "qnn_history = model.fit(\r\n",
        "      X_train_tfq, y_train_h,\r\n",
        "      batch_size=64,\r\n",
        "      epochs=10,\r\n",
        "      verbose=1,\r\n",
        "      validation_data=(X_valid_tfq, y_valid_h))"
      ],
      "execution_count": 39,
      "outputs": [
        {
          "output_type": "stream",
          "text": [
            "Epoch 1/10\n",
            "160/160 [==============================] - 4s 24ms/step - loss: 0.7917 - hinge_accuracy: 0.6983 - val_loss: 0.5622 - val_hinge_accuracy: 0.7915\n",
            "Epoch 2/10\n",
            "160/160 [==============================] - 4s 25ms/step - loss: 0.5260 - hinge_accuracy: 0.7600 - val_loss: 0.4469 - val_hinge_accuracy: 0.7915\n",
            "Epoch 3/10\n",
            "160/160 [==============================] - 4s 26ms/step - loss: 0.4849 - hinge_accuracy: 0.7592 - val_loss: 0.4298 - val_hinge_accuracy: 0.7915\n",
            "Epoch 4/10\n",
            "160/160 [==============================] - 4s 24ms/step - loss: 0.4735 - hinge_accuracy: 0.7602 - val_loss: 0.4215 - val_hinge_accuracy: 0.7915\n",
            "Epoch 5/10\n",
            "160/160 [==============================] - 7s 43ms/step - loss: 0.4537 - hinge_accuracy: 0.7750 - val_loss: 0.4058 - val_hinge_accuracy: 0.8626\n",
            "Epoch 6/10\n",
            "160/160 [==============================] - 6s 39ms/step - loss: 0.4216 - hinge_accuracy: 0.8410 - val_loss: 0.3914 - val_hinge_accuracy: 0.8351\n",
            "Epoch 7/10\n",
            "160/160 [==============================] - 4s 26ms/step - loss: 0.4009 - hinge_accuracy: 0.8339 - val_loss: 0.3904 - val_hinge_accuracy: 0.8351\n",
            "Epoch 8/10\n",
            "160/160 [==============================] - 4s 25ms/step - loss: 0.3951 - hinge_accuracy: 0.8344 - val_loss: 0.3925 - val_hinge_accuracy: 0.8351\n",
            "Epoch 9/10\n",
            "160/160 [==============================] - 4s 26ms/step - loss: 0.3937 - hinge_accuracy: 0.8025 - val_loss: 0.3947 - val_hinge_accuracy: 0.7958\n",
            "Epoch 10/10\n",
            "160/160 [==============================] - 4s 24ms/step - loss: 0.3932 - hinge_accuracy: 0.8023 - val_loss: 0.3959 - val_hinge_accuracy: 0.7958\n"
          ],
          "name": "stdout"
        }
      ]
    },
    {
      "cell_type": "code",
      "metadata": {
        "id": "WBY-ECy54qyC",
        "colab": {
          "base_uri": "https://localhost:8080/"
        },
        "outputId": "d53e8a69-88d1-48b2-87b0-318bd85e58d6"
      },
      "source": [
        "model.evaluate(X_test_tfq, y_test_h)"
      ],
      "execution_count": 40,
      "outputs": [
        {
          "output_type": "stream",
          "text": [
            "63/63 [==============================] - 0s 8ms/step - loss: 0.3747 - hinge_accuracy: 0.8229\n"
          ],
          "name": "stdout"
        },
        {
          "output_type": "execute_result",
          "data": {
            "text/plain": [
              "[0.37472206354141235, 0.8229166865348816]"
            ]
          },
          "metadata": {
            "tags": []
          },
          "execution_count": 40
        }
      ]
    },
    {
      "cell_type": "markdown",
      "metadata": {
        "id": "dw6i8L1RQIUI"
      },
      "source": [
        "## Visualize the Results"
      ]
    },
    {
      "cell_type": "code",
      "metadata": {
        "colab": {
          "base_uri": "https://localhost:8080/",
          "height": 295
        },
        "id": "NK6Aw5LdOiWh",
        "outputId": "7b365ca6-0d5a-4a23-b049-4a505697b079"
      },
      "source": [
        "# Visualize Accuracy\r\n",
        "plt.plot(qnn_history.history['hinge_accuracy'])\r\n",
        "plt.plot(qnn_history.history['val_hinge_accuracy'])\r\n",
        "plt.title('Model Accuracy')\r\n",
        "plt.xlabel('Epoch')\r\n",
        "plt.ylabel('Accuracy')\r\n",
        "plt.legend(['train','test'],loc=\"best\")\r\n",
        "plt.show()"
      ],
      "execution_count": 41,
      "outputs": [
        {
          "output_type": "display_data",
          "data": {
            "image/png": "[encoded data removed]",
            "text/plain": [
              "<Figure size 432x288 with 1 Axes>"
            ]
          },
          "metadata": {
            "tags": [],
            "needs_background": "light"
          }
        }
      ]
    },
    {
      "cell_type": "code",
      "metadata": {
        "colab": {
          "base_uri": "https://localhost:8080/",
          "height": 295
        },
        "id": "9IbgVjZQRAue",
        "outputId": "aeb4d475-dfe0-440e-a10e-2744a7e2ffbe"
      },
      "source": [
        "# Visualize Loss\r\n",
        "plt.plot(qnn_history.history['loss'])\r\n",
        "plt.plot(qnn_history.history['val_loss'])\r\n",
        "plt.title('Model Loss')\r\n",
        "plt.xlabel('Epoch')\r\n",
        "plt.ylabel('Loss')\r\n",
        "plt.legend(['train','test'],loc=\"best\")\r\n",
        "plt.show()"
      ],
      "execution_count": 42,
      "outputs": [
        {
          "output_type": "display_data",
          "data": {
            "image/png": "[encoded data removed]",
            "text/plain": [
              "<Figure size 432x288 with 1 Axes>"
            ]
          },
          "metadata": {
            "tags": [],
            "needs_background": "light"
          }
        }
      ]
    },
    {
      "cell_type": "markdown",
      "metadata": {
        "id": "nxx-qCBIRcih"
      },
      "source": [
        "## Save The Model Weights"
      ]
    },
    {
      "cell_type": "code",
      "metadata": {
        "id": "Sh4pazWbRjR_"
      },
      "source": [
        "#Saving the weights\r\n",
        "model.save_weights('/content/sample_data/QModelWeights')"
      ],
      "execution_count": 44,
      "outputs": []
    },
    {
      "cell_type": "markdown",
      "metadata": {
        "id": "iXLmchzKapew"
      },
      "source": [
        "## Refernces"
      ]
    },
    {
      "cell_type": "markdown",
      "metadata": {
        "id": "_fx9p7mparf3"
      },
      "source": [
        "* https://www.tensorflow.org/quantum/tutorials/mnist\r\n",
        "* https://quantumai.google/cirq/tutorials\r\n",
        "* [Paper by Farhi et al.](https://arxiv.org/pdf/1802.06002.pdf)\r\n",
        "* [Paper by Dmitri Maslov](https://www.google.com/url?sa=t&source=web&rct=j&url=https://arxiv.org/pdf/1603.07678&ved=2ahUKEwi86KbBlfvuAhUmzDgGHfteCIsQFjAJegQIHhAC&usg=AOvVaw04beRgWLMZhYBV6GpyygHF)"
      ]
    }
  ]
}